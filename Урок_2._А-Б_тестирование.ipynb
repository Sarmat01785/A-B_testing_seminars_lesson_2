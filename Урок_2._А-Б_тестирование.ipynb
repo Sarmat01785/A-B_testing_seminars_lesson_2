{
 "cells": [
  {
   "cell_type": "markdown",
   "id": "68ba97e9",
   "metadata": {},
   "source": [
    "# Задание 1 Приоритизация гипотез методом ICE"
   ]
  },
  {
   "cell_type": "markdown",
   "id": "775b0c8c",
   "metadata": {},
   "source": [
    "Для каждой гипотезы рассчитаем **ICE score** по формуле:\n",
    "\n",
    "`ICE = Impact * Confidence * Ease`"
   ]
  },
  {
   "cell_type": "markdown",
   "id": "72cda160",
   "metadata": {},
   "source": [
    "**Гипотезы и их оценки:**"
   ]
  },
  {
   "cell_type": "markdown",
   "id": "8982ee56",
   "metadata": {},
   "source": [
    "1. **Интеграция стикеров:**\n",
    "   - Impact: 7\n",
    "   - Confidence: 8\n",
    "   - Ease: 8 (предполагаемая легкость реализации)\n",
    "   - **ICE:** `7 * 8 * 8 = 448`"
   ]
  },
  {
   "cell_type": "markdown",
   "id": "1d5589c6",
   "metadata": {},
   "source": [
    "2. **Улучшенное шифрование:**"
   ]
  },
  {
   "cell_type": "markdown",
   "id": "5ef52544",
   "metadata": {},
   "source": [
    "   - Impact: 9\n",
    "   - Confidence: 7\n",
    "   - Ease: 5 (более сложная реализация, поэтому меньше баллов)\n",
    "   - **ICE:** `9 * 7 * 5 = 315`"
   ]
  },
  {
   "cell_type": "markdown",
   "id": "5fa539b9",
   "metadata": {},
   "source": [
    "3. **Новая функция \"Stories\":**"
   ]
  },
  {
   "cell_type": "markdown",
   "id": "1143d32f",
   "metadata": {},
   "source": [
    "   - Impact: 8\n",
    "   - Confidence: 6\n",
    "   - Ease: 4 (сложность внедрения новой функции)\n",
    "   - **ICE:** `8 * 6 * 4 = 192`"
   ]
  },
  {
   "cell_type": "markdown",
   "id": "2c5e4374",
   "metadata": {},
   "source": [
    "4. **Премиум подписки:**"
   ]
  },
  {
   "cell_type": "markdown",
   "id": "0378aa0d",
   "metadata": {},
   "source": [
    "   - Impact: 7\n",
    "   - Confidence: 7\n",
    "   - Ease: 6 (средняя сложность реализации)\n",
    "   - **ICE:** `7 * 7 * 6 = 294`"
   ]
  },
  {
   "cell_type": "markdown",
   "id": "e20001b9",
   "metadata": {},
   "source": [
    "5. **Групповые видеозвонки:**"
   ]
  },
  {
   "cell_type": "markdown",
   "id": "4dbc1eda",
   "metadata": {},
   "source": [
    "   - Impact: 8\n",
    "   - Confidence: 6\n",
    "   - Ease: 3 (высокие технические требования)\n",
    "   - **ICE:** `8 * 6 * 3 = 144`"
   ]
  },
  {
   "cell_type": "markdown",
   "id": "504291b0",
   "metadata": {},
   "source": [
    "Наивысший **ICE score** у гипотезы интеграции стикеров."
   ]
  },
  {
   "cell_type": "markdown",
   "id": "e596e48c",
   "metadata": {},
   "source": [
    "# Задание 2 Шаблон дизайна эксперимента для гипотезы интеграции стикеров"
   ]
  },
  {
   "cell_type": "markdown",
   "id": "ab545997",
   "metadata": {},
   "source": [
    "1. **Цель эксперимента:**\n",
    "   Увеличить среднее количество сообщений, отправляемых пользователями."
   ]
  },
  {
   "cell_type": "markdown",
   "id": "f5826bac",
   "metadata": {},
   "source": [
    "2. **Параметры:**\n",
    "   - Контрольная группа: пользователи с текущим набором стикеров.\n",
    "   - Экспериментальная группа: пользователи с новым набором стикеров.\n",
    "   - Длительность эксперимента: 1 месяц.\n",
    "   - Основная метрика: среднее количество отправленных сообщений на пользователя.\n",
    "   - Второстепенные метрики: DAU, средняя продолжительность сессий, Retention Rate."
   ]
  },
  {
   "cell_type": "markdown",
   "id": "caad6720",
   "metadata": {},
   "source": [
    "3. **Ход эксперимента:**\n",
    "   - Рандомизация пользователей по группам.\n",
    "   - Изменения доступны только экспериментальной группе.\n",
    "   - Сбор данных о взаимодействиях с новыми стикерами."
   ]
  },
  {
   "cell_type": "markdown",
   "id": "c467f792",
   "metadata": {},
   "source": [
    "4. **Анализ результатов:**\n",
    "   - Сравнение основной метрики между группами.\n",
    "   - Применение статистических тестов.\n",
    "   - Анализ второстепенных метрик."
   ]
  },
  {
   "cell_type": "markdown",
   "id": "a2c6162b",
   "metadata": {},
   "source": [
    "5. **Принятие решения:**\n",
    "   - В случае положительных результатов, рассмотреть внедрение стикеров для всех.\n",
    "   - При негативных результатах, проанализировать и решить, нужны ли изменения."
   ]
  }
 ],
 "metadata": {
  "kernelspec": {
   "display_name": "Python 3 (ipykernel)",
   "language": "python",
   "name": "python3"
  },
  "language_info": {
   "codemirror_mode": {
    "name": "ipython",
    "version": 3
   },
   "file_extension": ".py",
   "mimetype": "text/x-python",
   "name": "python",
   "nbconvert_exporter": "python",
   "pygments_lexer": "ipython3",
   "version": "3.11.5"
  }
 },
 "nbformat": 4,
 "nbformat_minor": 5
}
